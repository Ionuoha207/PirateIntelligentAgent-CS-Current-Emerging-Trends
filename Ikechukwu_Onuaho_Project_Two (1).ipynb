{
 "cells": [
  {
   "cell_type": "markdown",
   "metadata": {},
   "source": [
    "# Treasure Hunt Game Notebook\n",
    "\n",
    "## Read and Review Your Starter Code\n",
    "The theme of this project is a popular treasure hunt game in which the player needs to find the treasure before the pirate does. While you will not be developing the entire game, you will write the part of the game that represents the intelligent agent, which is a pirate in this case. The pirate will try to find the optimal path to the treasure using deep Q-learning. \n",
    "\n",
    "You have been provided with two Python classes and this notebook to help you with this assignment. The first class, TreasureMaze.py, represents the environment, which includes a maze object defined as a matrix. The second class, GameExperience.py, stores the episodes – that is, all the states that come in between the initial state and the terminal state. This is later used by the agent for learning by experience, called \"exploration\". This notebook shows how to play a game. Your task is to complete the deep Q-learning implementation for which a skeleton implementation has been provided. The code blocks you will need to complete has #TODO as a header.\n",
    "\n",
    "First, read and review the next few code and instruction blocks to understand the code that you have been given."
   ]
  },
  {
   "cell_type": "code",
   "execution_count": 14,
   "metadata": {},
   "outputs": [],
   "source": [
    "from __future__ import print_function\n",
    "import os, sys, time, datetime, json, random\n",
    "import numpy as np\n",
    "from keras.models import Sequential\n",
    "from keras.layers.core import Dense, Activation\n",
    "from keras.optimizers import SGD , Adam, RMSprop\n",
    "from keras.layers.advanced_activations import PReLU\n",
    "import matplotlib.pyplot as plt\n",
    "from TreasureMaze import TreasureMaze\n",
    "from GameExperience import GameExperience\n",
    "%matplotlib inline"
   ]
  },
  {
   "cell_type": "markdown",
   "metadata": {},
   "source": [
    "The following code block contains an 8x8 matrix that will be used as a maze object:"
   ]
  },
  {
   "cell_type": "code",
   "execution_count": 15,
   "metadata": {},
   "outputs": [],
   "source": [
    "maze = np.array([\n",
    "    [ 1.,  0.,  1.,  1.,  1.,  1.,  1.,  1.],\n",
    "    [ 1.,  0.,  1.,  1.,  1.,  0.,  1.,  1.],\n",
    "    [ 1.,  1.,  1.,  1.,  0.,  1.,  0.,  1.],\n",
    "    [ 1.,  1.,  1.,  0.,  1.,  1.,  1.,  1.],\n",
    "    [ 1.,  1.,  0.,  1.,  1.,  1.,  1.,  1.],\n",
    "    [ 1.,  1.,  1.,  0.,  1.,  0.,  0.,  0.],\n",
    "    [ 1.,  1.,  1.,  0.,  1.,  1.,  1.,  1.],\n",
    "    [ 1.,  1.,  1.,  1.,  0.,  1.,  1.,  1.]\n",
    "])"
   ]
  },
  {
   "cell_type": "markdown",
   "metadata": {},
   "source": [
    "This helper function allows a visual representation of the maze object:"
   ]
  },
  {
   "cell_type": "code",
   "execution_count": 16,
   "metadata": {},
   "outputs": [],
   "source": [
    "def show(qmaze):\n",
    "    plt.grid('on')\n",
    "    nrows, ncols = qmaze.maze.shape\n",
    "    ax = plt.gca()\n",
    "    ax.set_xticks(np.arange(0.5, nrows, 1))\n",
    "    ax.set_yticks(np.arange(0.5, ncols, 1))\n",
    "    ax.set_xticklabels([])\n",
    "    ax.set_yticklabels([])\n",
    "    canvas = np.copy(qmaze.maze)\n",
    "    for row,col in qmaze.visited:\n",
    "        canvas[row,col] = 0.6\n",
    "    pirate_row, pirate_col, _ = qmaze.state\n",
    "    canvas[pirate_row, pirate_col] = 0.3   # pirate cell\n",
    "    canvas[nrows-1, ncols-1] = 0.9 # treasure cell\n",
    "    img = plt.imshow(canvas, interpolation='none', cmap='gray')\n",
    "    return img"
   ]
  },
  {
   "cell_type": "markdown",
   "metadata": {},
   "source": [
    "The pirate agent can move in four directions: left, right, up, and down. \n",
    "\n",
    "While the agent primarily learns by experience through exploitation, often, the agent can choose to explore the environment to find previously undiscovered paths. This is called \"exploration\" and is defined by epsilon. This value is typically a lower value such as 0.1, which means for every ten attempts, the agent will attempt to learn by experience nine times and will randomly explore a new path one time. You are encouraged to try various values for the exploration factor and see how the algorithm performs."
   ]
  },
  {
   "cell_type": "code",
   "execution_count": 17,
   "metadata": {},
   "outputs": [],
   "source": [
    "LEFT = 0\n",
    "UP = 1\n",
    "RIGHT = 2\n",
    "DOWN = 3\n",
    "\n",
    "\n",
    "# Exploration factor\n",
    "epsilon = 0.1\n",
    "\n",
    "# Actions dictionary\n",
    "actions_dict = {\n",
    "    LEFT: 'left',\n",
    "    UP: 'up',\n",
    "    RIGHT: 'right',\n",
    "    DOWN: 'down',\n",
    "}\n",
    "\n",
    "num_actions = len(actions_dict)\n"
   ]
  },
  {
   "cell_type": "markdown",
   "metadata": {},
   "source": [
    "The sample code block and output below show creating a maze object and performing one action (DOWN), which returns the reward. The resulting updated environment is visualized."
   ]
  },
  {
   "cell_type": "code",
   "execution_count": 18,
   "metadata": {},
   "outputs": [
    {
     "name": "stdout",
     "output_type": "stream",
     "text": [
      "reward= -0.04\n"
     ]
    },
    {
     "data": {
      "text/plain": [
       "<matplotlib.image.AxesImage at 0x2c48c2a0c88>"
      ]
     },
     "execution_count": 18,
     "metadata": {},
     "output_type": "execute_result"
    },
    {
     "data": {
      "image/png": "[encoded data removed]",
      "text/plain": [
       "<Figure size 432x288 with 1 Axes>"
      ]
     },
     "metadata": {
      "needs_background": "light"
     },
     "output_type": "display_data"
    }
   ],
   "source": [
    "qmaze = TreasureMaze(maze)\n",
    "canvas, reward, game_over = qmaze.act(DOWN)\n",
    "print(\"reward=\", reward)\n",
    "show(qmaze)"
   ]
  },
  {
   "cell_type": "markdown",
   "metadata": {},
   "source": [
    "This function simulates a full game based on the provided trained model. The other parameters include the TreasureMaze object and the starting position of the pirate."
   ]
  },
  {
   "cell_type": "code",
   "execution_count": 19,
   "metadata": {},
   "outputs": [],
   "source": [
    "def play_game(model, qmaze, pirate_cell):\n",
    "    qmaze.reset(pirate_cell)\n",
    "    envstate = qmaze.observe()\n",
    "    while True:\n",
    "        prev_envstate = envstate\n",
    "        # get next action\n",
    "        q = model.predict(prev_envstate)\n",
    "        action = np.argmax(q[0])\n",
    "\n",
    "        # apply action, get rewards and new state\n",
    "        envstate, reward, game_status = qmaze.act(action)\n",
    "        if game_status == 'win':\n",
    "            return True\n",
    "        elif game_status == 'lose':\n",
    "            return False"
   ]
  },
  {
   "cell_type": "markdown",
   "metadata": {},
   "source": [
    "This function helps you to determine whether the pirate can win any game at all. If your maze is not well designed, the pirate may not win any game at all. In this case, your training would not yield any result. The provided maze in this notebook ensures that there is a path to win and you can run this method to check."
   ]
  },
  {
   "cell_type": "code",
   "execution_count": 20,
   "metadata": {},
   "outputs": [],
   "source": [
    "def completion_check(model, qmaze):\n",
    "    for cell in qmaze.free_cells:\n",
    "        if not qmaze.valid_actions(cell):\n",
    "            return False\n",
    "        if not play_game(model, qmaze, cell):\n",
    "            return False\n",
    "    return True"
   ]
  },
  {
   "cell_type": "markdown",
   "metadata": {},
   "source": [
    "The code you have been given in this block will build the neural network model. Review the code and note the number of layers, as well as the activation, optimizer, and loss functions that are used to train the model."
   ]
  },
  {
   "cell_type": "code",
   "execution_count": 21,
   "metadata": {},
   "outputs": [],
   "source": [
    "def build_model(maze):\n",
    "    model = Sequential()\n",
    "    model.add(Dense(maze.size, input_shape=(maze.size,)))\n",
    "    model.add(PReLU())\n",
    "    model.add(Dense(maze.size))\n",
    "    model.add(PReLU())\n",
    "    model.add(Dense(num_actions))\n",
    "    model.compile(optimizer='adam', loss='mse')\n",
    "    return model"
   ]
  },
  {
   "cell_type": "markdown",
   "metadata": {},
   "source": [
    "# #TODO: Complete the Q-Training Algorithm Code Block\n",
    "\n",
    "This is your deep Q-learning implementation. The goal of your deep Q-learning implementation is to find the best possible navigation sequence that results in reaching the treasure cell while maximizing the reward. In your implementation, you need to determine the optimal number of epochs to achieve a 100% win rate.\n",
    "\n",
    "You will need to complete the section starting with #pseudocode. The pseudocode has been included for you."
   ]
  },
  {
   "cell_type": "code",
   "execution_count": 22,
   "metadata": {},
   "outputs": [],
   "source": [
    "def qtrain(model, maze, **opt):\n",
    "    # exploration factor\n",
    "    global epsilon \n",
    "\n",
    "    # number of epochs\n",
    "    n_epoch = opt.get('n_epoch', 15000)\n",
    "\n",
    "    # maximum memory to store episodes\n",
    "    max_memory = opt.get('max_memory', 1000)\n",
    "\n",
    "    # maximum data size for training\n",
    "    data_size = opt.get('data_size', 50)\n",
    "\n",
    "    # start time\n",
    "    start_time = datetime.datetime.now()\n",
    "\n",
    "    # Construct environment/game from numpy array: maze (see above)\n",
    "    qmaze = TreasureMaze(maze)\n",
    "\n",
    "    # Initialize experience replay object\n",
    "    experience = GameExperience(model, max_memory=max_memory)\n",
    "    \n",
    "    win_history = []   # history of win/lose game\n",
    "    hsize = qmaze.maze.size // 2   # history window size\n",
    "    win_rate = 0.0\n",
    "    \n",
    "    for epoch in range(n_epoch):\n",
    "        agent_cell = random.choice(qmaze.free_cells)\n",
    "        qmaze.reset(agent_cell)\n",
    "        envstate = qmaze.observe()\n",
    "        n_episodes = 0\n",
    "        loss = 0.0\n",
    "        \n",
    "        while qmaze.game_status() == 'not_over':\n",
    "            prev_envstate = envstate\n",
    "            if np.random.rand() < epsilon:\n",
    "                action = np.random.choice(num_actions)\n",
    "            else:\n",
    "                q = model.predict(prev_envstate)\n",
    "                action = np.argmax(q[0])\n",
    "            \n",
    "            envstate, reward, game_status = qmaze.act(action)\n",
    "            episode = [prev_envstate, action, reward, envstate, game_status]\n",
    "            experience.remember(episode)  # pass the episode as a single list\n",
    "            n_episodes += 1\n",
    "            \n",
    "            inputs, targets = experience.get_data(data_size=data_size)\n",
    "            h = model.fit(inputs, targets, epochs=8, batch_size=16, verbose=0)\n",
    "            loss = model.evaluate(inputs, targets, verbose=0)\n",
    "        \n",
    "        win_history.append(1 if game_status == 'win' else 0)\n",
    "        win_rate = sum(win_history) / len(win_history)\n",
    "        \n",
    "        dt = datetime.datetime.now() - start_time\n",
    "        t = format_time(dt.total_seconds())\n",
    "        template = \"Epoch: {:03d}/{:d} | Loss: {:.4f} | Episodes: {:d} | Win count: {:d} | Win rate: {:.3f} | time: {}\"\n",
    "        print(template.format(epoch, n_epoch-1, loss, n_episodes, sum(win_history), win_rate, t))\n",
    "        \n",
    "        if win_rate > 0.9: \n",
    "            epsilon = 0.05\n",
    "        if sum(win_history[-hsize:]) == hsize and completion_check(model, qmaze):\n",
    "            print(\"Reached 100% win rate at epoch: %d\" % (epoch,))\n",
    "            break\n",
    "    \n",
    "    dt = datetime.datetime.now() - start_time\n",
    "    seconds = dt.total_seconds()\n",
    "    t = format_time(seconds)\n",
    "    print(\"Training time: {} seconds\".format(t))\n",
    "\n",
    "# This is a small utility for printing readable time strings:\n",
    "def format_time(seconds):\n",
    "    if seconds < 400:\n",
    "        s = float(seconds)\n",
    "        return \"%.1f seconds\" % (s,)\n",
    "    elif seconds < 4000:\n",
    "        m = seconds / 60.0\n",
    "        return \"%.2f minutes\" % (m,)\n",
    "    else:\n",
    "        h = seconds / 3600.0\n",
    "        return \"%.2f hours\" % (h,)\n"
   ]
  },
  {
   "cell_type": "markdown",
   "metadata": {},
   "source": [
    "## Test Your Model\n",
    "\n",
    "Now we will start testing the deep Q-learning implementation. To begin, select **Cell**, then **Run All** from the menu bar. This will run your notebook. As it runs, you should see output begin to appear beneath the next few cells. The code below creates an instance of TreasureMaze."
   ]
  },
  {
   "cell_type": "code",
   "execution_count": 23,
   "metadata": {},
   "outputs": [
    {
     "data": {
      "text/plain": [
       "<matplotlib.image.AxesImage at 0x2c48c28f3c8>"
      ]
     },
     "execution_count": 23,
     "metadata": {},
     "output_type": "execute_result"
    },
    {
     "data": {
      "image/png": "[encoded data removed]",
      "text/plain": [
       "<Figure size 432x288 with 1 Axes>"
      ]
     },
     "metadata": {
      "needs_background": "light"
     },
     "output_type": "display_data"
    }
   ],
   "source": [
    "qmaze = TreasureMaze(maze)\n",
    "show(qmaze)"
   ]
  },
  {
   "cell_type": "markdown",
   "metadata": {},
   "source": [
    "In the next code block, you will build your model and train it using deep Q-learning. Note: This step takes several minutes to fully run."
   ]
  },
  {
   "cell_type": "code",
   "execution_count": 24,
   "metadata": {},
   "outputs": [
    {
     "name": "stdout",
     "output_type": "stream",
     "text": [
      "Epoch: 000/999 | Loss: 0.0002 | Episodes: 130 | Win count: 0 | Win rate: 0.000 | time: 14.3 seconds\n",
      "Epoch: 001/999 | Loss: 0.0009 | Episodes: 139 | Win count: 0 | Win rate: 0.000 | time: 32.6 seconds\n",
      "Epoch: 002/999 | Loss: 0.0001 | Episodes: 135 | Win count: 0 | Win rate: 0.000 | time: 49.2 seconds\n",
      "Epoch: 003/999 | Loss: 0.0003 | Episodes: 134 | Win count: 0 | Win rate: 0.000 | time: 65.5 seconds\n",
      "Epoch: 004/999 | Loss: 0.0012 | Episodes: 134 | Win count: 0 | Win rate: 0.000 | time: 80.9 seconds\n",
      "Epoch: 005/999 | Loss: 0.0009 | Episodes: 18 | Win count: 1 | Win rate: 0.167 | time: 83.1 seconds\n",
      "Epoch: 006/999 | Loss: 0.0001 | Episodes: 138 | Win count: 1 | Win rate: 0.143 | time: 99.2 seconds\n",
      "Epoch: 007/999 | Loss: 0.0005 | Episodes: 138 | Win count: 1 | Win rate: 0.125 | time: 116.7 seconds\n",
      "Epoch: 008/999 | Loss: 0.0004 | Episodes: 142 | Win count: 1 | Win rate: 0.111 | time: 132.9 seconds\n",
      "Epoch: 009/999 | Loss: 0.0002 | Episodes: 134 | Win count: 1 | Win rate: 0.100 | time: 148.4 seconds\n",
      "Epoch: 010/999 | Loss: 0.0003 | Episodes: 143 | Win count: 1 | Win rate: 0.091 | time: 164.6 seconds\n",
      "Epoch: 011/999 | Loss: 0.0002 | Episodes: 146 | Win count: 1 | Win rate: 0.083 | time: 181.2 seconds\n",
      "Epoch: 012/999 | Loss: 0.0005 | Episodes: 140 | Win count: 1 | Win rate: 0.077 | time: 197.5 seconds\n",
      "Epoch: 013/999 | Loss: 0.0001 | Episodes: 137 | Win count: 1 | Win rate: 0.071 | time: 213.1 seconds\n",
      "Epoch: 014/999 | Loss: 0.0008 | Episodes: 67 | Win count: 2 | Win rate: 0.133 | time: 220.9 seconds\n",
      "Epoch: 015/999 | Loss: 0.0112 | Episodes: 2 | Win count: 3 | Win rate: 0.188 | time: 221.2 seconds\n",
      "Epoch: 016/999 | Loss: 0.0008 | Episodes: 143 | Win count: 3 | Win rate: 0.176 | time: 237.8 seconds\n",
      "Epoch: 017/999 | Loss: 0.0004 | Episodes: 1 | Win count: 4 | Win rate: 0.222 | time: 237.9 seconds\n",
      "Epoch: 018/999 | Loss: 0.0008 | Episodes: 138 | Win count: 4 | Win rate: 0.211 | time: 253.1 seconds\n",
      "Epoch: 019/999 | Loss: 0.0008 | Episodes: 8 | Win count: 5 | Win rate: 0.250 | time: 253.9 seconds\n",
      "Epoch: 020/999 | Loss: 0.0005 | Episodes: 149 | Win count: 5 | Win rate: 0.238 | time: 269.7 seconds\n",
      "Epoch: 021/999 | Loss: 0.0004 | Episodes: 137 | Win count: 5 | Win rate: 0.227 | time: 284.6 seconds\n",
      "Epoch: 022/999 | Loss: 0.0006 | Episodes: 134 | Win count: 5 | Win rate: 0.217 | time: 302.0 seconds\n",
      "Epoch: 023/999 | Loss: 0.0009 | Episodes: 142 | Win count: 5 | Win rate: 0.208 | time: 318.4 seconds\n",
      "Epoch: 024/999 | Loss: 0.0001 | Episodes: 140 | Win count: 5 | Win rate: 0.200 | time: 335.1 seconds\n",
      "Epoch: 025/999 | Loss: 0.0004 | Episodes: 134 | Win count: 5 | Win rate: 0.192 | time: 350.6 seconds\n",
      "Epoch: 026/999 | Loss: 0.0008 | Episodes: 141 | Win count: 5 | Win rate: 0.185 | time: 368.3 seconds\n",
      "Epoch: 027/999 | Loss: 0.0009 | Episodes: 139 | Win count: 5 | Win rate: 0.179 | time: 383.2 seconds\n",
      "Epoch: 028/999 | Loss: 0.0008 | Episodes: 56 | Win count: 6 | Win rate: 0.207 | time: 389.2 seconds\n",
      "Epoch: 029/999 | Loss: 0.0003 | Episodes: 135 | Win count: 6 | Win rate: 0.200 | time: 6.73 minutes\n",
      "Epoch: 030/999 | Loss: 0.0002 | Episodes: 60 | Win count: 7 | Win rate: 0.226 | time: 6.83 minutes\n",
      "Epoch: 031/999 | Loss: 0.0007 | Episodes: 137 | Win count: 7 | Win rate: 0.219 | time: 7.08 minutes\n",
      "Epoch: 032/999 | Loss: 0.0001 | Episodes: 144 | Win count: 7 | Win rate: 0.212 | time: 7.38 minutes\n",
      "Epoch: 033/999 | Loss: 0.0005 | Episodes: 20 | Win count: 8 | Win rate: 0.235 | time: 7.41 minutes\n",
      "Epoch: 034/999 | Loss: 0.0007 | Episodes: 18 | Win count: 9 | Win rate: 0.257 | time: 7.45 minutes\n",
      "Epoch: 035/999 | Loss: 0.0007 | Episodes: 139 | Win count: 9 | Win rate: 0.250 | time: 7.72 minutes\n",
      "Epoch: 036/999 | Loss: 0.0004 | Episodes: 146 | Win count: 9 | Win rate: 0.243 | time: 8.00 minutes\n",
      "Epoch: 037/999 | Loss: 0.0010 | Episodes: 144 | Win count: 9 | Win rate: 0.237 | time: 8.27 minutes\n",
      "Epoch: 038/999 | Loss: 0.0007 | Episodes: 6 | Win count: 10 | Win rate: 0.256 | time: 8.28 minutes\n",
      "Epoch: 039/999 | Loss: 0.0011 | Episodes: 142 | Win count: 10 | Win rate: 0.250 | time: 8.54 minutes\n",
      "Epoch: 040/999 | Loss: 0.0012 | Episodes: 3 | Win count: 11 | Win rate: 0.268 | time: 8.54 minutes\n",
      "Epoch: 041/999 | Loss: 0.0013 | Episodes: 148 | Win count: 11 | Win rate: 0.262 | time: 8.82 minutes\n",
      "Epoch: 042/999 | Loss: 0.0008 | Episodes: 21 | Win count: 12 | Win rate: 0.279 | time: 8.86 minutes\n",
      "Epoch: 043/999 | Loss: 0.0006 | Episodes: 145 | Win count: 12 | Win rate: 0.273 | time: 9.13 minutes\n",
      "Epoch: 044/999 | Loss: 0.0022 | Episodes: 39 | Win count: 13 | Win rate: 0.289 | time: 9.21 minutes\n",
      "Epoch: 045/999 | Loss: 0.0006 | Episodes: 137 | Win count: 13 | Win rate: 0.283 | time: 9.49 minutes\n",
      "Epoch: 046/999 | Loss: 0.0014 | Episodes: 9 | Win count: 14 | Win rate: 0.298 | time: 9.52 minutes\n",
      "Epoch: 047/999 | Loss: 0.0005 | Episodes: 134 | Win count: 14 | Win rate: 0.292 | time: 9.78 minutes\n",
      "Epoch: 048/999 | Loss: 0.0007 | Episodes: 12 | Win count: 15 | Win rate: 0.306 | time: 9.80 minutes\n",
      "Epoch: 049/999 | Loss: 0.0012 | Episodes: 7 | Win count: 16 | Win rate: 0.320 | time: 9.82 minutes\n",
      "Epoch: 050/999 | Loss: 0.0002 | Episodes: 136 | Win count: 16 | Win rate: 0.314 | time: 10.06 minutes\n",
      "Epoch: 051/999 | Loss: 0.0005 | Episodes: 139 | Win count: 16 | Win rate: 0.308 | time: 10.36 minutes\n",
      "Epoch: 052/999 | Loss: 0.0004 | Episodes: 138 | Win count: 16 | Win rate: 0.302 | time: 10.64 minutes\n",
      "Epoch: 053/999 | Loss: 0.0004 | Episodes: 15 | Win count: 17 | Win rate: 0.315 | time: 10.67 minutes\n",
      "Epoch: 054/999 | Loss: 0.0002 | Episodes: 34 | Win count: 18 | Win rate: 0.327 | time: 10.74 minutes\n",
      "Epoch: 055/999 | Loss: 0.0003 | Episodes: 11 | Win count: 19 | Win rate: 0.339 | time: 10.76 minutes\n",
      "Epoch: 056/999 | Loss: 0.0002 | Episodes: 1 | Win count: 20 | Win rate: 0.351 | time: 10.76 minutes\n",
      "Epoch: 057/999 | Loss: 0.0002 | Episodes: 16 | Win count: 21 | Win rate: 0.362 | time: 10.80 minutes\n",
      "Epoch: 058/999 | Loss: 0.0007 | Episodes: 138 | Win count: 21 | Win rate: 0.356 | time: 11.07 minutes\n",
      "Epoch: 059/999 | Loss: 0.0001 | Episodes: 139 | Win count: 21 | Win rate: 0.350 | time: 11.34 minutes\n",
      "Epoch: 060/999 | Loss: 0.0008 | Episodes: 4 | Win count: 22 | Win rate: 0.361 | time: 11.34 minutes\n",
      "Epoch: 061/999 | Loss: 0.0006 | Episodes: 145 | Win count: 22 | Win rate: 0.355 | time: 11.61 minutes\n",
      "Epoch: 062/999 | Loss: 0.0009 | Episodes: 7 | Win count: 23 | Win rate: 0.365 | time: 11.62 minutes\n",
      "Epoch: 063/999 | Loss: 0.0002 | Episodes: 11 | Win count: 24 | Win rate: 0.375 | time: 11.64 minutes\n",
      "Epoch: 064/999 | Loss: 0.0008 | Episodes: 139 | Win count: 24 | Win rate: 0.369 | time: 11.90 minutes\n",
      "Epoch: 065/999 | Loss: 0.0008 | Episodes: 141 | Win count: 24 | Win rate: 0.364 | time: 12.16 minutes\n",
      "Epoch: 066/999 | Loss: 0.0015 | Episodes: 144 | Win count: 24 | Win rate: 0.358 | time: 12.42 minutes\n",
      "Epoch: 067/999 | Loss: 0.0009 | Episodes: 136 | Win count: 24 | Win rate: 0.353 | time: 12.67 minutes\n",
      "Epoch: 068/999 | Loss: 0.0007 | Episodes: 136 | Win count: 24 | Win rate: 0.348 | time: 12.92 minutes\n",
      "Epoch: 069/999 | Loss: 0.0002 | Episodes: 139 | Win count: 24 | Win rate: 0.343 | time: 13.14 minutes\n",
      "Epoch: 070/999 | Loss: 0.0003 | Episodes: 69 | Win count: 25 | Win rate: 0.352 | time: 13.27 minutes\n",
      "Epoch: 071/999 | Loss: 0.0003 | Episodes: 58 | Win count: 26 | Win rate: 0.361 | time: 13.37 minutes\n",
      "Epoch: 072/999 | Loss: 0.0003 | Episodes: 70 | Win count: 27 | Win rate: 0.370 | time: 13.49 minutes\n",
      "Epoch: 073/999 | Loss: 0.0007 | Episodes: 105 | Win count: 28 | Win rate: 0.378 | time: 13.68 minutes\n",
      "Epoch: 074/999 | Loss: 0.0006 | Episodes: 58 | Win count: 29 | Win rate: 0.387 | time: 13.79 minutes\n",
      "Epoch: 075/999 | Loss: 0.0004 | Episodes: 10 | Win count: 30 | Win rate: 0.395 | time: 13.81 minutes\n",
      "Epoch: 076/999 | Loss: 0.0006 | Episodes: 8 | Win count: 31 | Win rate: 0.403 | time: 13.82 minutes\n",
      "Epoch: 077/999 | Loss: 0.0005 | Episodes: 29 | Win count: 32 | Win rate: 0.410 | time: 13.88 minutes\n",
      "Epoch: 078/999 | Loss: 0.0006 | Episodes: 6 | Win count: 33 | Win rate: 0.418 | time: 13.89 minutes\n",
      "Epoch: 079/999 | Loss: 0.0008 | Episodes: 2 | Win count: 34 | Win rate: 0.425 | time: 13.89 minutes\n",
      "Epoch: 080/999 | Loss: 0.0009 | Episodes: 30 | Win count: 35 | Win rate: 0.432 | time: 13.95 minutes\n",
      "Epoch: 081/999 | Loss: 0.0008 | Episodes: 25 | Win count: 36 | Win rate: 0.439 | time: 13.99 minutes\n",
      "Epoch: 082/999 | Loss: 0.0011 | Episodes: 57 | Win count: 37 | Win rate: 0.446 | time: 14.09 minutes\n",
      "Epoch: 083/999 | Loss: 0.0008 | Episodes: 62 | Win count: 38 | Win rate: 0.452 | time: 14.21 minutes\n",
      "Epoch: 084/999 | Loss: 0.0007 | Episodes: 8 | Win count: 39 | Win rate: 0.459 | time: 14.22 minutes\n",
      "Epoch: 085/999 | Loss: 0.0005 | Episodes: 49 | Win count: 40 | Win rate: 0.465 | time: 14.31 minutes\n",
      "Epoch: 086/999 | Loss: 0.0009 | Episodes: 50 | Win count: 41 | Win rate: 0.471 | time: 14.41 minutes\n",
      "Epoch: 087/999 | Loss: 0.0007 | Episodes: 65 | Win count: 42 | Win rate: 0.477 | time: 14.52 minutes\n",
      "Epoch: 088/999 | Loss: 0.0006 | Episodes: 9 | Win count: 43 | Win rate: 0.483 | time: 14.54 minutes\n",
      "Epoch: 089/999 | Loss: 0.0005 | Episodes: 9 | Win count: 44 | Win rate: 0.489 | time: 14.56 minutes\n",
      "Epoch: 090/999 | Loss: 0.0008 | Episodes: 30 | Win count: 45 | Win rate: 0.495 | time: 14.61 minutes\n",
      "Epoch: 091/999 | Loss: 0.0006 | Episodes: 28 | Win count: 46 | Win rate: 0.500 | time: 14.66 minutes\n",
      "Epoch: 092/999 | Loss: 0.0010 | Episodes: 21 | Win count: 47 | Win rate: 0.505 | time: 14.70 minutes\n",
      "Epoch: 093/999 | Loss: 0.0006 | Episodes: 20 | Win count: 48 | Win rate: 0.511 | time: 14.73 minutes\n",
      "Epoch: 094/999 | Loss: 0.0004 | Episodes: 38 | Win count: 49 | Win rate: 0.516 | time: 14.80 minutes\n",
      "Epoch: 095/999 | Loss: 0.0003 | Episodes: 5 | Win count: 50 | Win rate: 0.521 | time: 14.81 minutes\n",
      "Epoch: 096/999 | Loss: 0.0002 | Episodes: 32 | Win count: 51 | Win rate: 0.526 | time: 14.87 minutes\n",
      "Epoch: 097/999 | Loss: 0.0005 | Episodes: 26 | Win count: 52 | Win rate: 0.531 | time: 14.92 minutes\n",
      "Epoch: 098/999 | Loss: 0.0002 | Episodes: 58 | Win count: 53 | Win rate: 0.535 | time: 15.03 minutes\n",
      "Epoch: 099/999 | Loss: 0.0005 | Episodes: 99 | Win count: 54 | Win rate: 0.540 | time: 15.21 minutes\n",
      "Epoch: 100/999 | Loss: 0.0006 | Episodes: 21 | Win count: 55 | Win rate: 0.545 | time: 15.26 minutes\n",
      "Epoch: 101/999 | Loss: 0.0000 | Episodes: 23 | Win count: 56 | Win rate: 0.549 | time: 15.30 minutes\n",
      "Epoch: 102/999 | Loss: 0.0005 | Episodes: 18 | Win count: 57 | Win rate: 0.553 | time: 15.34 minutes\n",
      "Epoch: 103/999 | Loss: 0.0002 | Episodes: 15 | Win count: 58 | Win rate: 0.558 | time: 15.37 minutes\n",
      "Epoch: 104/999 | Loss: 0.0004 | Episodes: 6 | Win count: 59 | Win rate: 0.562 | time: 15.39 minutes\n",
      "Epoch: 105/999 | Loss: 0.0000 | Episodes: 38 | Win count: 60 | Win rate: 0.566 | time: 15.46 minutes\n",
      "Epoch: 106/999 | Loss: 0.0004 | Episodes: 34 | Win count: 61 | Win rate: 0.570 | time: 15.53 minutes\n",
      "Epoch: 107/999 | Loss: 0.0005 | Episodes: 21 | Win count: 62 | Win rate: 0.574 | time: 15.57 minutes\n",
      "Epoch: 108/999 | Loss: 0.0003 | Episodes: 1 | Win count: 63 | Win rate: 0.578 | time: 15.58 minutes\n",
      "Epoch: 109/999 | Loss: 0.0005 | Episodes: 11 | Win count: 64 | Win rate: 0.582 | time: 15.60 minutes\n",
      "Epoch: 110/999 | Loss: 0.0008 | Episodes: 32 | Win count: 65 | Win rate: 0.586 | time: 15.67 minutes\n",
      "Epoch: 111/999 | Loss: 0.0004 | Episodes: 10 | Win count: 66 | Win rate: 0.589 | time: 15.69 minutes\n",
      "Epoch: 112/999 | Loss: 0.0005 | Episodes: 7 | Win count: 67 | Win rate: 0.593 | time: 15.71 minutes\n",
      "Epoch: 113/999 | Loss: 0.0005 | Episodes: 23 | Win count: 68 | Win rate: 0.596 | time: 15.75 minutes\n",
      "Epoch: 114/999 | Loss: 0.0006 | Episodes: 149 | Win count: 69 | Win rate: 0.600 | time: 16.05 minutes\n",
      "Epoch: 115/999 | Loss: 0.0006 | Episodes: 53 | Win count: 70 | Win rate: 0.603 | time: 16.16 minutes\n",
      "Epoch: 116/999 | Loss: 0.0007 | Episodes: 1 | Win count: 71 | Win rate: 0.607 | time: 16.16 minutes\n",
      "Epoch: 117/999 | Loss: 0.0005 | Episodes: 3 | Win count: 72 | Win rate: 0.610 | time: 16.17 minutes\n",
      "Epoch: 118/999 | Loss: 0.0002 | Episodes: 26 | Win count: 73 | Win rate: 0.613 | time: 16.22 minutes\n",
      "Epoch: 119/999 | Loss: 0.0005 | Episodes: 23 | Win count: 74 | Win rate: 0.617 | time: 16.27 minutes\n",
      "Epoch: 120/999 | Loss: 0.0005 | Episodes: 3 | Win count: 75 | Win rate: 0.620 | time: 16.27 minutes\n",
      "Epoch: 121/999 | Loss: 0.0011 | Episodes: 26 | Win count: 76 | Win rate: 0.623 | time: 16.33 minutes\n",
      "Epoch: 122/999 | Loss: 0.0005 | Episodes: 12 | Win count: 77 | Win rate: 0.626 | time: 16.35 minutes\n",
      "Epoch: 123/999 | Loss: 0.0009 | Episodes: 61 | Win count: 78 | Win rate: 0.629 | time: 16.47 minutes\n",
      "Epoch: 124/999 | Loss: 0.0006 | Episodes: 11 | Win count: 79 | Win rate: 0.632 | time: 16.49 minutes\n",
      "Epoch: 125/999 | Loss: 0.0007 | Episodes: 16 | Win count: 80 | Win rate: 0.635 | time: 16.53 minutes\n",
      "Epoch: 126/999 | Loss: 0.0015 | Episodes: 9 | Win count: 81 | Win rate: 0.638 | time: 16.55 minutes\n",
      "Epoch: 127/999 | Loss: 0.0007 | Episodes: 2 | Win count: 82 | Win rate: 0.641 | time: 16.55 minutes\n",
      "Epoch: 128/999 | Loss: 0.0008 | Episodes: 3 | Win count: 83 | Win rate: 0.643 | time: 16.56 minutes\n",
      "Epoch: 129/999 | Loss: 0.0003 | Episodes: 8 | Win count: 84 | Win rate: 0.646 | time: 16.58 minutes\n"
     ]
    },
    {
     "ename": "ValueError",
     "evalue": "unsupported format character 'w' (0x77) at index 13",
     "output_type": "error",
     "traceback": [
      "\u001b[1;31m---------------------------------------------------------------------------\u001b[0m",
      "\u001b[1;31mValueError\u001b[0m                                Traceback (most recent call last)",
      "\u001b[1;32m<ipython-input-24-5c0b9dbd25b3>\u001b[0m in \u001b[0;36m<module>\u001b[1;34m\u001b[0m\n\u001b[0;32m      1\u001b[0m \u001b[0mmodel\u001b[0m \u001b[1;33m=\u001b[0m \u001b[0mbuild_model\u001b[0m\u001b[1;33m(\u001b[0m\u001b[0mmaze\u001b[0m\u001b[1;33m)\u001b[0m\u001b[1;33m\u001b[0m\u001b[1;33m\u001b[0m\u001b[0m\n\u001b[1;32m----> 2\u001b[1;33m \u001b[0mqtrain\u001b[0m\u001b[1;33m(\u001b[0m\u001b[0mmodel\u001b[0m\u001b[1;33m,\u001b[0m \u001b[0mmaze\u001b[0m\u001b[1;33m,\u001b[0m \u001b[0mn_epoch\u001b[0m\u001b[1;33m=\u001b[0m\u001b[1;36m1000\u001b[0m\u001b[1;33m,\u001b[0m \u001b[0mmax_memory\u001b[0m\u001b[1;33m=\u001b[0m\u001b[1;36m8\u001b[0m\u001b[1;33m*\u001b[0m\u001b[0mmaze\u001b[0m\u001b[1;33m.\u001b[0m\u001b[0msize\u001b[0m\u001b[1;33m,\u001b[0m \u001b[0mdata_size\u001b[0m\u001b[1;33m=\u001b[0m\u001b[1;36m32\u001b[0m\u001b[1;33m)\u001b[0m\u001b[1;33m\u001b[0m\u001b[1;33m\u001b[0m\u001b[0m\n\u001b[0m",
      "\u001b[1;32m<ipython-input-22-32ecceb10194>\u001b[0m in \u001b[0;36mqtrain\u001b[1;34m(model, maze, **opt)\u001b[0m\n\u001b[0;32m     60\u001b[0m             \u001b[0mepsilon\u001b[0m \u001b[1;33m=\u001b[0m \u001b[1;36m0.05\u001b[0m\u001b[1;33m\u001b[0m\u001b[1;33m\u001b[0m\u001b[0m\n\u001b[0;32m     61\u001b[0m         \u001b[1;32mif\u001b[0m \u001b[0msum\u001b[0m\u001b[1;33m(\u001b[0m\u001b[0mwin_history\u001b[0m\u001b[1;33m[\u001b[0m\u001b[1;33m-\u001b[0m\u001b[0mhsize\u001b[0m\u001b[1;33m:\u001b[0m\u001b[1;33m]\u001b[0m\u001b[1;33m)\u001b[0m \u001b[1;33m==\u001b[0m \u001b[0mhsize\u001b[0m \u001b[1;32mand\u001b[0m \u001b[0mcompletion_check\u001b[0m\u001b[1;33m(\u001b[0m\u001b[0mmodel\u001b[0m\u001b[1;33m,\u001b[0m \u001b[0mqmaze\u001b[0m\u001b[1;33m)\u001b[0m\u001b[1;33m:\u001b[0m\u001b[1;33m\u001b[0m\u001b[1;33m\u001b[0m\u001b[0m\n\u001b[1;32m---> 62\u001b[1;33m             \u001b[0mprint\u001b[0m\u001b[1;33m(\u001b[0m\u001b[1;34m\"Reached 100% win rate at epoch: %d\"\u001b[0m \u001b[1;33m%\u001b[0m \u001b[1;33m(\u001b[0m\u001b[0mepoch\u001b[0m\u001b[1;33m,\u001b[0m\u001b[1;33m)\u001b[0m\u001b[1;33m)\u001b[0m\u001b[1;33m\u001b[0m\u001b[1;33m\u001b[0m\u001b[0m\n\u001b[0m\u001b[0;32m     63\u001b[0m             \u001b[1;32mbreak\u001b[0m\u001b[1;33m\u001b[0m\u001b[1;33m\u001b[0m\u001b[0m\n\u001b[0;32m     64\u001b[0m \u001b[1;33m\u001b[0m\u001b[0m\n",
      "\u001b[1;31mValueError\u001b[0m: unsupported format character 'w' (0x77) at index 13"
     ]
    }
   ],
   "source": [
    "model = build_model(maze)\n",
    "qtrain(model, maze, n_epoch=1000, max_memory=8*maze.size, data_size=32)\n"
   ]
  },
  {
   "cell_type": "markdown",
   "metadata": {},
   "source": [
    "This cell will check to see if the model passes the completion check. Note: This could take several minutes."
   ]
  },
  {
   "cell_type": "code",
   "execution_count": 25,
   "metadata": {},
   "outputs": [
    {
     "data": {
      "text/plain": [
       "<matplotlib.image.AxesImage at 0x2c48bd8a9c8>"
      ]
     },
     "execution_count": 25,
     "metadata": {},
     "output_type": "execute_result"
    },
    {
     "data": {
      "image/png": "[encoded data removed]",
      "text/plain": [
       "<Figure size 432x288 with 1 Axes>"
      ]
     },
     "metadata": {
      "needs_background": "light"
     },
     "output_type": "display_data"
    }
   ],
   "source": [
    "completion_check(model, qmaze)\n",
    "show(qmaze)"
   ]
  },
  {
   "cell_type": "markdown",
   "metadata": {},
   "source": [
    "This cell will test your model for one game. It will start the pirate at the top-left corner and run play_game. The agent should find a path from the starting position to the target (treasure). The treasure is located in the bottom-right corner."
   ]
  },
  {
   "cell_type": "code",
   "execution_count": 26,
   "metadata": {},
   "outputs": [
    {
     "data": {
      "text/plain": [
       "<matplotlib.image.AxesImage at 0x2c492913e08>"
      ]
     },
     "execution_count": 26,
     "metadata": {},
     "output_type": "execute_result"
    },
    {
     "data": {
      "image/png": "[encoded data removed]",
      "text/plain": [
       "<Figure size 432x288 with 1 Axes>"
      ]
     },
     "metadata": {
      "needs_background": "light"
     },
     "output_type": "display_data"
    }
   ],
   "source": [
    "pirate_start = (0, 0)\n",
    "play_game(model, qmaze, pirate_start)\n",
    "show(qmaze)"
   ]
  },
  {
   "cell_type": "markdown",
   "metadata": {},
   "source": [
    "## Save and Submit Your Work\n",
    "After you have finished creating the code for your notebook, save your work. Make sure that your notebook contains your name in the filename (e.g. Doe_Jane_ProjectTwo.ipynb). This will help your instructor access and grade your work easily. Download a copy of your IPYNB file and submit it to Brightspace. Refer to the Jupyter Notebook in Apporto Tutorial if you need help with these tasks."
   ]
  }
 ],
 "metadata": {
  "kernelspec": {
   "display_name": "Python 3",
   "language": "python",
   "name": "python3"
  },
  "language_info": {
   "codemirror_mode": {
    "name": "ipython",
    "version": 3
   },
   "file_extension": ".py",
   "mimetype": "text/x-python",
   "name": "python",
   "nbconvert_exporter": "python",
   "pygments_lexer": "ipython3",
   "version": "3.7.4"
  }
 },
 "nbformat": 4,
 "nbformat_minor": 2
}
